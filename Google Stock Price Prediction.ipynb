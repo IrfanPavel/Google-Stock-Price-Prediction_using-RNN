{
 "cells": [
  {
   "cell_type": "markdown",
   "id": "31cabb42",
   "metadata": {},
   "source": [
    "# Importing the libraries"
   ]
  },
  {
   "cell_type": "code",
   "execution_count": 2,
   "id": "f6cc3c58",
   "metadata": {},
   "outputs": [],
   "source": [
    "import numpy as np\n",
    "import matplotlib.pyplot as plt\n",
    "import pandas as pd"
   ]
  },
  {
   "cell_type": "markdown",
   "id": "344f4286",
   "metadata": {},
   "source": [
    "# Importing the training dataset"
   ]
  },
  {
   "cell_type": "code",
   "execution_count": 3,
   "id": "c2abab51",
   "metadata": {},
   "outputs": [],
   "source": [
    "dataset_train = pd.read_csv('Google_Stock_Price_Train.csv')\n",
    "training_set = dataset_train.iloc[:,1:2].values\n"
   ]
  },
  {
   "cell_type": "code",
   "execution_count": 4,
   "id": "c9fe643d",
   "metadata": {},
   "outputs": [
    {
     "name": "stdout",
     "output_type": "stream",
     "text": [
      "[[325.25]\n",
      " [331.27]\n",
      " [329.83]\n",
      " ...\n",
      " [793.7 ]\n",
      " [783.33]\n",
      " [782.75]]\n"
     ]
    }
   ],
   "source": [
    "print(training_set)"
   ]
  },
  {
   "cell_type": "markdown",
   "id": "b35576ca",
   "metadata": {},
   "source": [
    "# Feature Scaling"
   ]
  },
  {
   "cell_type": "code",
   "execution_count": 5,
   "id": "66c6480a",
   "metadata": {},
   "outputs": [],
   "source": [
    "from sklearn.preprocessing import MinMaxScaler\n",
    "sc= MinMaxScaler(feature_range=(0,1))\n",
    "training_set_scaled = sc.fit_transform(training_set)\n"
   ]
  },
  {
   "cell_type": "markdown",
   "id": "f6873c88",
   "metadata": {},
   "source": [
    "# Creating a data structure with 60 timesteps and 1 output"
   ]
  },
  {
   "cell_type": "code",
   "execution_count": 6,
   "id": "39ded0cb",
   "metadata": {},
   "outputs": [],
   "source": [
    "X_train = []\n",
    "y_train = []\n",
    "for i in range(60, 1258):\n",
    "    X_train.append(training_set_scaled[i-60:i, 0])\n",
    "    y_train.append(training_set_scaled[i, 0])\n",
    "X_train, y_train = np.array(X_train), np.array(y_train)"
   ]
  },
  {
   "cell_type": "markdown",
   "id": "f5a46836",
   "metadata": {},
   "source": [
    "# Reshaping"
   ]
  },
  {
   "cell_type": "code",
   "execution_count": 11,
   "id": "1639b6c0",
   "metadata": {},
   "outputs": [],
   "source": [
    "X_train = np.reshape(X_train,(X_train.shape[0],X_train.shape[1],1))\n"
   ]
  },
  {
   "cell_type": "markdown",
   "id": "7a86afec",
   "metadata": {},
   "source": [
    "# Importing the Keras libraries and packages"
   ]
  },
  {
   "cell_type": "code",
   "execution_count": 12,
   "id": "abfb2d06",
   "metadata": {},
   "outputs": [],
   "source": [
    "from keras.models import Sequential\n",
    "from keras.layers import Dense\n",
    "from keras.layers import LSTM\n",
    "from keras.layers import Dropout"
   ]
  },
  {
   "cell_type": "markdown",
   "id": "0c7f19e6",
   "metadata": {},
   "source": [
    "# Initialising the RNN"
   ]
  },
  {
   "cell_type": "code",
   "execution_count": 20,
   "id": "2f9486c5",
   "metadata": {},
   "outputs": [],
   "source": [
    "regressor = Sequential()"
   ]
  },
  {
   "cell_type": "markdown",
   "id": "4dd5765e",
   "metadata": {},
   "source": [
    "# Adding the first LSTM  layer and some Dropout regularisation "
   ]
  },
  {
   "cell_type": "code",
   "execution_count": 21,
   "id": "45127719",
   "metadata": {},
   "outputs": [],
   "source": [
    "regressor.add(LSTM(units = 50, return_sequences = True, input_shape = (X_train.shape[1], 1)))\n",
    "regressor.add(Dropout(0.2))        "
   ]
  },
  {
   "cell_type": "markdown",
   "id": "d9e97775",
   "metadata": {},
   "source": [
    "# Adding a second LSTM layer and some Dropout regularisation"
   ]
  },
  {
   "cell_type": "code",
   "execution_count": 22,
   "id": "90502e17",
   "metadata": {},
   "outputs": [],
   "source": [
    "regressor.add(LSTM(units = 50, return_sequences = True))\n",
    "regressor.add(Dropout(0.2))"
   ]
  },
  {
   "cell_type": "markdown",
   "id": "1460824d",
   "metadata": {},
   "source": [
    "# Adding a third LSTM layer and some Dropout regularisation"
   ]
  },
  {
   "cell_type": "code",
   "execution_count": 23,
   "id": "3435e2d5",
   "metadata": {},
   "outputs": [],
   "source": [
    "regressor.add(LSTM(units = 50, return_sequences = True))\n",
    "regressor.add(Dropout(0.2))"
   ]
  },
  {
   "cell_type": "markdown",
   "id": "b248edca",
   "metadata": {},
   "source": [
    "# Adding a fourth LSTM layer and some Dropout regularisation"
   ]
  },
  {
   "cell_type": "code",
   "execution_count": 24,
   "id": "0fab020f",
   "metadata": {},
   "outputs": [],
   "source": [
    "regressor.add(LSTM(units = 50))\n",
    "regressor.add(Dropout(0.2))"
   ]
  },
  {
   "cell_type": "markdown",
   "id": "9ddf24e3",
   "metadata": {},
   "source": [
    "# Adding the output layer"
   ]
  },
  {
   "cell_type": "code",
   "execution_count": 25,
   "id": "c3ad8fba",
   "metadata": {},
   "outputs": [],
   "source": [
    "regressor.add(Dense(units = 1))"
   ]
  },
  {
   "cell_type": "markdown",
   "id": "fac5da07",
   "metadata": {},
   "source": [
    "# Compiling the RNN"
   ]
  },
  {
   "cell_type": "code",
   "execution_count": 26,
   "id": "6f42d392",
   "metadata": {},
   "outputs": [],
   "source": [
    "regressor.compile(optimizer = 'adam', loss = 'mean_squared_error')"
   ]
  },
  {
   "cell_type": "markdown",
   "id": "403f8c12",
   "metadata": {},
   "source": [
    "# Fitting the RNN to the Training set"
   ]
  },
  {
   "cell_type": "code",
   "execution_count": 27,
   "id": "2aacfd74",
   "metadata": {},
   "outputs": [
    {
     "name": "stdout",
     "output_type": "stream",
     "text": [
      "Epoch 1/100\n",
      "38/38 [==============================] - 12s 321ms/step - loss: 0.0456\n",
      "Epoch 2/100\n",
      "38/38 [==============================] - 13s 350ms/step - loss: 0.0057\n",
      "Epoch 3/100\n",
      "38/38 [==============================] - 13s 349ms/step - loss: 0.0056\n",
      "Epoch 4/100\n",
      "38/38 [==============================] - 13s 350ms/step - loss: 0.0056\n",
      "Epoch 5/100\n",
      "38/38 [==============================] - 13s 348ms/step - loss: 0.0055\n",
      "Epoch 6/100\n",
      "38/38 [==============================] - 13s 351ms/step - loss: 0.0049\n",
      "Epoch 7/100\n",
      "38/38 [==============================] - 13s 348ms/step - loss: 0.0044\n",
      "Epoch 8/100\n",
      "38/38 [==============================] - 13s 339ms/step - loss: 0.0048\n",
      "Epoch 9/100\n",
      "38/38 [==============================] - 13s 341ms/step - loss: 0.0045\n",
      "Epoch 10/100\n",
      "38/38 [==============================] - 13s 337ms/step - loss: 0.0046\n",
      "Epoch 11/100\n",
      "38/38 [==============================] - 12s 328ms/step - loss: 0.0051\n",
      "Epoch 12/100\n",
      "38/38 [==============================] - 12s 328ms/step - loss: 0.0041\n",
      "Epoch 13/100\n",
      "38/38 [==============================] - 13s 331ms/step - loss: 0.0047\n",
      "Epoch 14/100\n",
      "38/38 [==============================] - 10s 269ms/step - loss: 0.0040\n",
      "Epoch 15/100\n",
      "38/38 [==============================] - 10s 259ms/step - loss: 0.0043\n",
      "Epoch 16/100\n",
      "38/38 [==============================] - 10s 263ms/step - loss: 0.0038\n",
      "Epoch 17/100\n",
      "38/38 [==============================] - 10s 263ms/step - loss: 0.0033\n",
      "Epoch 18/100\n",
      "38/38 [==============================] - 10s 265ms/step - loss: 0.0036\n",
      "Epoch 19/100\n",
      "38/38 [==============================] - 10s 266ms/step - loss: 0.0034\n",
      "Epoch 20/100\n",
      "38/38 [==============================] - 10s 262ms/step - loss: 0.0035\n",
      "Epoch 21/100\n",
      "38/38 [==============================] - 10s 262ms/step - loss: 0.0034\n",
      "Epoch 22/100\n",
      "38/38 [==============================] - 10s 258ms/step - loss: 0.0036\n",
      "Epoch 23/100\n",
      "38/38 [==============================] - 10s 265ms/step - loss: 0.0036\n",
      "Epoch 24/100\n",
      "38/38 [==============================] - 10s 261ms/step - loss: 0.0034\n",
      "Epoch 25/100\n",
      "38/38 [==============================] - 10s 260ms/step - loss: 0.0036\n",
      "Epoch 26/100\n",
      "38/38 [==============================] - 10s 260ms/step - loss: 0.0031\n",
      "Epoch 27/100\n",
      "38/38 [==============================] - 10s 260ms/step - loss: 0.0030\n",
      "Epoch 28/100\n",
      "38/38 [==============================] - 10s 260ms/step - loss: 0.0031\n",
      "Epoch 29/100\n",
      "38/38 [==============================] - 10s 259ms/step - loss: 0.0033\n",
      "Epoch 30/100\n",
      "38/38 [==============================] - 10s 259ms/step - loss: 0.0033\n",
      "Epoch 31/100\n",
      "38/38 [==============================] - 10s 258ms/step - loss: 0.0030\n",
      "Epoch 32/100\n",
      "38/38 [==============================] - 10s 258ms/step - loss: 0.0030\n",
      "Epoch 33/100\n",
      "38/38 [==============================] - 10s 259ms/step - loss: 0.0028\n",
      "Epoch 34/100\n",
      "38/38 [==============================] - 10s 258ms/step - loss: 0.0033\n",
      "Epoch 35/100\n",
      "38/38 [==============================] - 10s 259ms/step - loss: 0.0028\n",
      "Epoch 36/100\n",
      "38/38 [==============================] - 10s 259ms/step - loss: 0.0028\n",
      "Epoch 37/100\n",
      "38/38 [==============================] - 10s 259ms/step - loss: 0.0029\n",
      "Epoch 38/100\n",
      "38/38 [==============================] - 10s 261ms/step - loss: 0.0025\n",
      "Epoch 39/100\n",
      "38/38 [==============================] - 9s 248ms/step - loss: 0.0031\n",
      "Epoch 40/100\n",
      "38/38 [==============================] - 9s 229ms/step - loss: 0.0026\n",
      "Epoch 41/100\n",
      "38/38 [==============================] - 8s 221ms/step - loss: 0.0026\n",
      "Epoch 42/100\n",
      "38/38 [==============================] - 8s 209ms/step - loss: 0.0025\n",
      "Epoch 43/100\n",
      "38/38 [==============================] - 7s 173ms/step - loss: 0.0024\n",
      "Epoch 44/100\n",
      "38/38 [==============================] - 9s 242ms/step - loss: 0.0028\n",
      "Epoch 45/100\n",
      "38/38 [==============================] - 9s 234ms/step - loss: 0.0025\n",
      "Epoch 46/100\n",
      "38/38 [==============================] - 9s 244ms/step - loss: 0.0028\n",
      "Epoch 47/100\n",
      "38/38 [==============================] - 9s 237ms/step - loss: 0.0023\n",
      "Epoch 48/100\n",
      "38/38 [==============================] - 9s 244ms/step - loss: 0.0025\n",
      "Epoch 49/100\n",
      "38/38 [==============================] - 9s 231ms/step - loss: 0.0024\n",
      "Epoch 50/100\n",
      "38/38 [==============================] - 9s 234ms/step - loss: 0.0023\n",
      "Epoch 51/100\n",
      "38/38 [==============================] - 9s 244ms/step - loss: 0.0024\n",
      "Epoch 52/100\n",
      "38/38 [==============================] - 9s 231ms/step - loss: 0.0021\n",
      "Epoch 53/100\n",
      "38/38 [==============================] - 9s 233ms/step - loss: 0.0022\n",
      "Epoch 54/100\n",
      "38/38 [==============================] - 9s 231ms/step - loss: 0.0021\n",
      "Epoch 55/100\n",
      "38/38 [==============================] - 9s 231ms/step - loss: 0.0023\n",
      "Epoch 56/100\n",
      "38/38 [==============================] - 9s 229ms/step - loss: 0.0021\n",
      "Epoch 57/100\n",
      "38/38 [==============================] - 8s 223ms/step - loss: 0.0023\n",
      "Epoch 58/100\n",
      "38/38 [==============================] - 8s 223ms/step - loss: 0.0019\n",
      "Epoch 59/100\n",
      "38/38 [==============================] - 8s 222ms/step - loss: 0.0022\n",
      "Epoch 60/100\n",
      "38/38 [==============================] - 9s 224ms/step - loss: 0.0019\n",
      "Epoch 61/100\n",
      "38/38 [==============================] - 9s 225ms/step - loss: 0.0021\n",
      "Epoch 62/100\n",
      "38/38 [==============================] - 9s 225ms/step - loss: 0.0021\n",
      "Epoch 63/100\n",
      "38/38 [==============================] - 8s 222ms/step - loss: 0.0021\n",
      "Epoch 64/100\n",
      "38/38 [==============================] - 9s 225ms/step - loss: 0.0024\n",
      "Epoch 65/100\n",
      "38/38 [==============================] - 9s 224ms/step - loss: 0.0024\n",
      "Epoch 66/100\n",
      "38/38 [==============================] - 9s 226ms/step - loss: 0.0022\n",
      "Epoch 67/100\n",
      "38/38 [==============================] - 9s 225ms/step - loss: 0.0020\n",
      "Epoch 68/100\n",
      "38/38 [==============================] - 9s 230ms/step - loss: 0.0020\n",
      "Epoch 69/100\n",
      "38/38 [==============================] - 9s 225ms/step - loss: 0.0020\n",
      "Epoch 70/100\n",
      "38/38 [==============================] - 9s 226ms/step - loss: 0.0022\n",
      "Epoch 71/100\n",
      "38/38 [==============================] - 8s 224ms/step - loss: 0.0022\n",
      "Epoch 72/100\n",
      "38/38 [==============================] - 9s 224ms/step - loss: 0.0017\n",
      "Epoch 73/100\n",
      "38/38 [==============================] - 9s 226ms/step - loss: 0.0017\n",
      "Epoch 74/100\n",
      "38/38 [==============================] - 8s 210ms/step - loss: 0.0017 2s - loss:  - ETA: 1s - loss:\n",
      "Epoch 75/100\n",
      "38/38 [==============================] - 8s 215ms/step - loss: 0.0020\n",
      "Epoch 76/100\n",
      "38/38 [==============================] - 8s 222ms/step - loss: 0.0019\n",
      "Epoch 77/100\n",
      "38/38 [==============================] - 8s 217ms/step - loss: 0.0019\n",
      "Epoch 78/100\n",
      "38/38 [==============================] - 6s 159ms/step - loss: 0.0018\n",
      "Epoch 79/100\n",
      "38/38 [==============================] - 7s 187ms/step - loss: 0.0017\n",
      "Epoch 80/100\n",
      "38/38 [==============================] - 8s 223ms/step - loss: 0.0017\n",
      "Epoch 81/100\n",
      "38/38 [==============================] - 8s 223ms/step - loss: 0.0016\n",
      "Epoch 82/100\n",
      "38/38 [==============================] - 8s 220ms/step - loss: 0.0016\n",
      "Epoch 83/100\n",
      "38/38 [==============================] - 8s 223ms/step - loss: 0.0015\n",
      "Epoch 84/100\n",
      "38/38 [==============================] - 8s 221ms/step - loss: 0.0016\n",
      "Epoch 85/100\n",
      "38/38 [==============================] - 8s 222ms/step - loss: 0.0017\n",
      "Epoch 86/100\n",
      "38/38 [==============================] - 8s 222ms/step - loss: 0.0015\n",
      "Epoch 87/100\n",
      "38/38 [==============================] - 8s 221ms/step - loss: 0.0016\n",
      "Epoch 88/100\n",
      "38/38 [==============================] - 8s 222ms/step - loss: 0.0014\n",
      "Epoch 89/100\n",
      "38/38 [==============================] - 8s 222ms/step - loss: 0.0015\n",
      "Epoch 90/100\n",
      "38/38 [==============================] - 8s 221ms/step - loss: 0.0014\n",
      "Epoch 91/100\n",
      "38/38 [==============================] - 8s 221ms/step - loss: 0.0016\n",
      "Epoch 92/100\n",
      "38/38 [==============================] - 8s 221ms/step - loss: 0.0017\n",
      "Epoch 93/100\n",
      "38/38 [==============================] - 8s 221ms/step - loss: 0.0016\n",
      "Epoch 94/100\n",
      "38/38 [==============================] - 8s 222ms/step - loss: 0.0015\n",
      "Epoch 95/100\n",
      "38/38 [==============================] - 8s 222ms/step - loss: 0.0014\n",
      "Epoch 96/100\n",
      "38/38 [==============================] - 8s 221ms/step - loss: 0.0019\n",
      "Epoch 97/100\n",
      "38/38 [==============================] - 8s 221ms/step - loss: 0.0013\n",
      "Epoch 98/100\n",
      "38/38 [==============================] - 8s 221ms/step - loss: 0.0013\n"
     ]
    },
    {
     "name": "stdout",
     "output_type": "stream",
     "text": [
      "Epoch 99/100\n",
      "38/38 [==============================] - 8s 220ms/step - loss: 0.0015\n",
      "Epoch 100/100\n",
      "38/38 [==============================] - 8s 222ms/step - loss: 0.0015\n"
     ]
    },
    {
     "data": {
      "text/plain": [
       "<tensorflow.python.keras.callbacks.History at 0x11c3029a460>"
      ]
     },
     "execution_count": 27,
     "metadata": {},
     "output_type": "execute_result"
    }
   ],
   "source": [
    "regressor.fit(X_train, y_train, epochs = 100, batch_size = 32)"
   ]
  },
  {
   "cell_type": "markdown",
   "id": "bcca6f8e",
   "metadata": {},
   "source": [
    "# Getting the real stock price of 2017"
   ]
  },
  {
   "cell_type": "code",
   "execution_count": 28,
   "id": "886c7e02",
   "metadata": {},
   "outputs": [],
   "source": [
    "dataset_test = pd.read_csv('Google_Stock_Price_Test.csv')\n",
    "real_stock_price = dataset_test.iloc[:, 1:2].values"
   ]
  },
  {
   "cell_type": "markdown",
   "id": "5bed5bf0",
   "metadata": {},
   "source": [
    "# Getting the predicted stock price of 2017"
   ]
  },
  {
   "cell_type": "code",
   "execution_count": 29,
   "id": "5e9004ff",
   "metadata": {},
   "outputs": [],
   "source": [
    "dataset_total = pd.concat((dataset_train['Open'], dataset_test['Open']), axis = 0)\n",
    "inputs = dataset_total[len(dataset_total) - len(dataset_test) - 60:].values\n",
    "inputs = inputs.reshape(-1,1)\n",
    "inputs = sc.transform(inputs)\n",
    "X_test = []\n",
    "for i in range(60, 80):\n",
    "    X_test.append(inputs[i-60:i, 0])\n",
    "X_test = np.array(X_test)\n",
    "X_test = np.reshape(X_test, (X_test.shape[0], X_test.shape[1], 1))\n",
    "predicted_stock_price = regressor.predict(X_test)\n",
    "predicted_stock_price = sc.inverse_transform(predicted_stock_price)"
   ]
  },
  {
   "cell_type": "markdown",
   "id": "1907a227",
   "metadata": {},
   "source": [
    "# Visualising the results"
   ]
  },
  {
   "cell_type": "code",
   "execution_count": 30,
   "id": "b4c1f1c3",
   "metadata": {},
   "outputs": [
    {
     "data": {
      "image/png": "[encoded data removed]",
      "text/plain": [
       "<Figure size 432x288 with 1 Axes>"
      ]
     },
     "metadata": {
      "needs_background": "light"
     },
     "output_type": "display_data"
    }
   ],
   "source": [
    "plt.plot(real_stock_price, color = 'red', label = 'Real Google Stock Price')\n",
    "plt.plot(predicted_stock_price, color = 'blue', label = 'Predicted Google Stock Price')\n",
    "plt.title('Google Stock Price Prediction')\n",
    "plt.xlabel('Time')\n",
    "plt.ylabel('Google Stock Price')\n",
    "plt.legend()\n",
    "plt.show()"
   ]
  }
 ],
 "metadata": {
  "kernelspec": {
   "display_name": "Python 3",
   "language": "python",
   "name": "python3"
  },
  "language_info": {
   "codemirror_mode": {
    "name": "ipython",
    "version": 3
   },
   "file_extension": ".py",
   "mimetype": "text/x-python",
   "name": "python",
   "nbconvert_exporter": "python",
   "pygments_lexer": "ipython3",
   "version": "3.8.8"
  }
 },
 "nbformat": 4,
 "nbformat_minor": 5
}
